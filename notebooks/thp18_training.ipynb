{
 "cells": [
  {
   "cell_type": "markdown",
   "metadata": {
    "colab_type": "text",
    "id": "4baa2UAc5xhP"
   },
   "source": [
    "# Introduction to applying machine learning in security\n",
    "\n",
    "## Eugene Teo 張漢輝\n",
    "*   eugene at temasek.org\n",
    "*   http://www.temasek.org (淡馬錫)\n",
    "\n",
    "## Syllabus in brief\n",
    "We will cover:\n",
    "\n",
    "*   Data wrangling\n",
    "*   Data visualization\n",
    "*   Feature engineering\n",
    "*   RandomForest\n",
    "*   Model evaluation\n",
    "\n"
   ]
  },
  {
   "cell_type": "code",
   "execution_count": 0,
   "metadata": {
    "colab": {
     "autoexec": {
      "startup": false,
      "wait_interval": 0
     }
    },
    "colab_type": "code",
    "collapsed": true,
    "id": "IZcCwDds5L3N"
   },
   "outputs": [],
   "source": [
    "%matplotlib inline"
   ]
  },
  {
   "cell_type": "code",
   "execution_count": 0,
   "metadata": {
    "colab": {
     "autoexec": {
      "startup": false,
      "wait_interval": 0
     }
    },
    "colab_type": "code",
    "collapsed": true,
    "id": "0CstP-xj5UDt"
   },
   "outputs": [],
   "source": [
    "# https://github.com/mouradmourafiq/pandas-summary\n",
    "# http://blog.rstudio.com/2016/03/29/feather/\n",
    "# !pip install -U pandas-summary tldextract feather-format yellowbrick imblearn\n",
    "!pip install -U pandas-summary tldextract yellowbrick imblearn"
   ]
  },
  {
   "cell_type": "code",
   "execution_count": 0,
   "metadata": {
    "colab": {
     "autoexec": {
      "startup": false,
      "wait_interval": 0
     }
    },
    "colab_type": "code",
    "collapsed": true,
    "id": "9fPTPucL5U6v"
   },
   "outputs": [],
   "source": [
    "!mkdir data\n",
    "!wget https://raw.githubusercontent.com/ClickSecurity/data_hacking/master/dga_detection/data/alexa_100k.csv -P ./data\n",
    "!wget https://raw.githubusercontent.com/ClickSecurity/data_hacking/master/dga_detection/data/dga_domains.txt -P ./data\n",
    "!wget https://raw.githubusercontent.com/ClickSecurity/data_hacking/master/dga_detection/data/words.txt -P ./data"
   ]
  },
  {
   "cell_type": "code",
   "execution_count": 0,
   "metadata": {
    "colab": {
     "autoexec": {
      "startup": false,
      "wait_interval": 0
     }
    },
    "colab_type": "code",
    "collapsed": true,
    "id": "PMqx2Mcb5beb"
   },
   "outputs": [],
   "source": [
    "import pandas as pd\n",
    "import numpy as np\n",
    "from pandas_summary import DataFrameSummary"
   ]
  },
  {
   "cell_type": "code",
   "execution_count": 0,
   "metadata": {
    "colab": {
     "autoexec": {
      "startup": false,
      "wait_interval": 0
     }
    },
    "colab_type": "code",
    "collapsed": true,
    "id": "5wfCl6JO5fof"
   },
   "outputs": [],
   "source": [
    "alexa_dataframe = pd.read_csv('data/alexa_100k.csv', names=['rank', 'uri'],\n",
    "                              header=None, encoding='utf-8')\n",
    "DataFrameSummary(alexa_dataframe).summary()"
   ]
  },
  {
   "cell_type": "code",
   "execution_count": 0,
   "metadata": {
    "colab": {
     "autoexec": {
      "startup": false,
      "wait_interval": 0
     }
    },
    "colab_type": "code",
    "collapsed": true,
    "id": "oXwy8apN5nLI"
   },
   "outputs": [],
   "source": [
    "alexa_dataframe.sample(5)"
   ]
  },
  {
   "cell_type": "code",
   "execution_count": 0,
   "metadata": {
    "colab": {
     "autoexec": {
      "startup": false,
      "wait_interval": 0
     }
    },
    "colab_type": "code",
    "collapsed": true,
    "id": "N6FfbWH15rhu"
   },
   "outputs": [],
   "source": [
    "import tldextract\n",
    "\n",
    "def domain_extract(uri):\n",
    "    ext = tldextract.extract(uri)\n",
    "    if not ext.suffix:\n",
    "        return np.nan\n",
    "    else:\n",
    "        return ext.domain"
   ]
  },
  {
   "cell_type": "code",
   "execution_count": 0,
   "metadata": {
    "colab": {
     "autoexec": {
      "startup": false,
      "wait_interval": 0
     }
    },
    "colab_type": "code",
    "collapsed": true,
    "id": "zSxibdy966OJ"
   },
   "outputs": [],
   "source": [
    "alexa_dataframe['domain'] = [domain_extract(x) for x in alexa_dataframe['uri']]"
   ]
  },
  {
   "cell_type": "code",
   "execution_count": 0,
   "metadata": {
    "colab": {
     "autoexec": {
      "startup": false,
      "wait_interval": 0
     }
    },
    "colab_type": "code",
    "collapsed": true,
    "id": "f058eZC268EO"
   },
   "outputs": [],
   "source": [
    "DataFrameSummary(alexa_dataframe).summary()"
   ]
  },
  {
   "cell_type": "code",
   "execution_count": 0,
   "metadata": {
    "colab": {
     "autoexec": {
      "startup": false,
      "wait_interval": 0
     }
    },
    "colab_type": "code",
    "collapsed": true,
    "id": "I3k_OMNY7Awr"
   },
   "outputs": [],
   "source": [
    "alexa_dataframe[alexa_dataframe['domain'].isnull()].sample(5)"
   ]
  },
  {
   "cell_type": "code",
   "execution_count": 0,
   "metadata": {
    "colab": {
     "autoexec": {
      "startup": false,
      "wait_interval": 0
     }
    },
    "colab_type": "code",
    "collapsed": true,
    "id": "oc9coqyf7DYO"
   },
   "outputs": [],
   "source": [
    "!grep -B1 -E '(28713|81751|49033)' data/alexa_100k.csv"
   ]
  },
  {
   "cell_type": "code",
   "execution_count": 0,
   "metadata": {
    "colab": {
     "autoexec": {
      "startup": false,
      "wait_interval": 0
     }
    },
    "colab_type": "code",
    "collapsed": true,
    "id": "EcLmF92Q7c8x"
   },
   "outputs": [],
   "source": [
    "del alexa_dataframe['rank']\n",
    "del alexa_dataframe['uri']\n",
    "alexa_dataframe['class'] = 'legit'\n",
    "alexa_dataframe = alexa_dataframe.dropna()\n",
    "alexa_dataframe = alexa_dataframe.drop_duplicates()\n",
    "DataFrameSummary(alexa_dataframe).summary()"
   ]
  },
  {
   "cell_type": "code",
   "execution_count": 0,
   "metadata": {
    "colab": {
     "autoexec": {
      "startup": false,
      "wait_interval": 0
     }
    },
    "colab_type": "code",
    "collapsed": true,
    "id": "R1EDriuI78Mp"
   },
   "outputs": [],
   "source": [
    "dga_dataframe = pd.read_csv('data/dga_domains.txt', header=None, names=['raw_domain'],\n",
    "                            encoding='utf-8')\n",
    "DataFrameSummary(dga_dataframe).summary()"
   ]
  },
  {
   "cell_type": "code",
   "execution_count": 0,
   "metadata": {
    "colab": {
     "autoexec": {
      "startup": false,
      "wait_interval": 0
     }
    },
    "colab_type": "code",
    "collapsed": true,
    "id": "v9njpgVi8Cvp"
   },
   "outputs": [],
   "source": [
    "dga_dataframe['raw_domain'][0]"
   ]
  },
  {
   "cell_type": "code",
   "execution_count": 0,
   "metadata": {
    "colab": {
     "autoexec": {
      "startup": false,
      "wait_interval": 0
     }
    },
    "colab_type": "code",
    "collapsed": true,
    "id": "E1i7TDF48RLE"
   },
   "outputs": [],
   "source": [
    "dga_dataframe['raw_domain'][0].split('.')[0].strip().lower()"
   ]
  },
  {
   "cell_type": "code",
   "execution_count": 0,
   "metadata": {
    "colab": {
     "autoexec": {
      "startup": false,
      "wait_interval": 0
     }
    },
    "colab_type": "code",
    "collapsed": true,
    "id": "Xc2xIdj58WVl"
   },
   "outputs": [],
   "source": [
    "dga_dataframe['domain'] = dga_dataframe.applymap(lambda x: x.split('.')[0].strip().lower())"
   ]
  },
  {
   "cell_type": "code",
   "execution_count": 0,
   "metadata": {
    "colab": {
     "autoexec": {
      "startup": false,
      "wait_interval": 0
     }
    },
    "colab_type": "code",
    "collapsed": true,
    "id": "wHJGLzBo8YVZ"
   },
   "outputs": [],
   "source": [
    "DataFrameSummary(dga_dataframe).summary()"
   ]
  },
  {
   "cell_type": "code",
   "execution_count": 0,
   "metadata": {
    "colab": {
     "autoexec": {
      "startup": false,
      "wait_interval": 0
     }
    },
    "colab_type": "code",
    "collapsed": true,
    "id": "_XX7M1Br8aCX"
   },
   "outputs": [],
   "source": [
    "del dga_dataframe['raw_domain']\n",
    "dga_dataframe['class'] = 'dga'\n",
    "dga_dataframe = dga_dataframe.drop_duplicates()\n",
    "DataFrameSummary(dga_dataframe).summary()"
   ]
  },
  {
   "cell_type": "code",
   "execution_count": 0,
   "metadata": {
    "colab": {
     "autoexec": {
      "startup": false,
      "wait_interval": 0
     }
    },
    "colab_type": "code",
    "collapsed": true,
    "id": "Mo7HqU1M8ifk"
   },
   "outputs": [],
   "source": [
    "# Unbalanced dataset\n",
    "print(len(alexa_dataframe), len(dga_dataframe))"
   ]
  },
  {
   "cell_type": "code",
   "execution_count": 0,
   "metadata": {
    "colab": {
     "autoexec": {
      "startup": false,
      "wait_interval": 0
     }
    },
    "colab_type": "code",
    "collapsed": true,
    "id": "SOleewzo8qVg"
   },
   "outputs": [],
   "source": [
    "all_domains = pd.concat([alexa_dataframe, dga_dataframe], ignore_index=True)"
   ]
  },
  {
   "cell_type": "code",
   "execution_count": 0,
   "metadata": {
    "colab": {
     "autoexec": {
      "startup": false,
      "wait_interval": 0
     }
    },
    "colab_type": "code",
    "collapsed": true,
    "id": "b1bPuZ0X9K8U"
   },
   "outputs": [],
   "source": [
    "# Feature engineering\n",
    "all_domains['length'] = [len(x) for x in all_domains['domain']]\n",
    "\n",
    "# Drop domains that are length <=6 even for legit domains\n",
    "all_domains = all_domains[all_domains['length'] > 6]"
   ]
  },
  {
   "cell_type": "code",
   "execution_count": 0,
   "metadata": {
    "colab": {
     "autoexec": {
      "startup": false,
      "wait_interval": 0
     }
    },
    "colab_type": "code",
    "collapsed": true,
    "id": "IoXB7-iX9M06"
   },
   "outputs": [],
   "source": [
    "# https://rosettacode.org/wiki/Entropy#Python:_More_succinct_version\n",
    "import math\n",
    "from collections import Counter\n",
    "\n",
    "def entropy(s):\n",
    "    p, lns = Counter(s), float(len(s))\n",
    "    return -sum( count/lns * math.log(count/lns, 2) for count in p.values())"
   ]
  },
  {
   "cell_type": "code",
   "execution_count": 0,
   "metadata": {
    "colab": {
     "autoexec": {
      "startup": false,
      "wait_interval": 0
     }
    },
    "colab_type": "code",
    "collapsed": true,
    "id": "QuEaSO4q9Udr"
   },
   "outputs": [],
   "source": [
    "all_domains['entropy'] = [entropy(x) for x in all_domains['domain']]"
   ]
  },
  {
   "cell_type": "code",
   "execution_count": 0,
   "metadata": {
    "colab": {
     "autoexec": {
      "startup": false,
      "wait_interval": 0
     }
    },
    "colab_type": "code",
    "collapsed": true,
    "id": "Dh3YkP9R-DB7"
   },
   "outputs": [],
   "source": [
    "import seaborn as sns\n",
    "sns.set_style(\"whitegrid\")\n",
    "\n",
    "ax = sns.pairplot(data=all_domains, diag_kind = 'kde', hue = 'class',\n",
    "                  markers = [\"o\", \"D\"], aspect = 1, plot_kws = {\"s\": 6})"
   ]
  },
  {
   "cell_type": "code",
   "execution_count": 0,
   "metadata": {
    "colab": {
     "autoexec": {
      "startup": false,
      "wait_interval": 0
     }
    },
    "colab_type": "code",
    "collapsed": true,
    "id": "LPOKVcooArvv"
   },
   "outputs": [],
   "source": [
    "ax = sns.boxplot(x='class', y='length', data=all_domains)"
   ]
  },
  {
   "cell_type": "code",
   "execution_count": 0,
   "metadata": {
    "colab": {
     "autoexec": {
      "startup": false,
      "wait_interval": 0
     }
    },
    "colab_type": "code",
    "collapsed": true,
    "id": "zCXDjoFVBNwS"
   },
   "outputs": [],
   "source": [
    "ax = sns.boxplot(x='class', y='entropy', data=all_domains)"
   ]
  },
  {
   "cell_type": "code",
   "execution_count": 0,
   "metadata": {
    "colab": {
     "autoexec": {
      "startup": false,
      "wait_interval": 0
     }
    },
    "colab_type": "code",
    "collapsed": true,
    "id": "6vRWcjfpBmyk"
   },
   "outputs": [],
   "source": [
    "ax = sns.lmplot(x='length', y='entropy', hue='class', data=all_domains, fit_reg=False)"
   ]
  },
  {
   "cell_type": "code",
   "execution_count": 0,
   "metadata": {
    "colab": {
     "autoexec": {
      "startup": false,
      "wait_interval": 0
     }
    },
    "colab_type": "code",
    "collapsed": true,
    "id": "CfKbz2FMBssl"
   },
   "outputs": [],
   "source": [
    "all_domains.sort_values(['entropy'], ascending=False).head(10)"
   ]
  },
  {
   "cell_type": "code",
   "execution_count": 0,
   "metadata": {
    "colab": {
     "autoexec": {
      "startup": false,
      "wait_interval": 0
     }
    },
    "colab_type": "code",
    "collapsed": true,
    "id": "MHB8iKWSDxN8"
   },
   "outputs": [],
   "source": [
    "high_entropy_domains = all_domains[all_domains['entropy'] > 4]\n",
    "\n",
    "print(\"entropy>4: {}% ({}) out of {}\".format(high_entropy_domains.shape[0]/all_domains.shape[0]*100,\n",
    "                                                           high_entropy_domains.shape[0], all_domains.shape[0]))\n",
    "print(\"Legit domains with high entropy: {}\".format(len(high_entropy_domains[high_entropy_domains['class'] == 'legit'])))\n",
    "print(\"DGA domains with high entropy: {}\".format(len(high_entropy_domains[high_entropy_domains['class'] == 'dga'])))"
   ]
  },
  {
   "cell_type": "code",
   "execution_count": 0,
   "metadata": {
    "colab": {
     "autoexec": {
      "startup": false,
      "wait_interval": 0
     }
    },
    "colab_type": "code",
    "collapsed": true,
    "id": "2WsHOOJ7CGYo"
   },
   "outputs": [],
   "source": [
    "all_domains.sort_values(['length'], ascending=False).head(10)"
   ]
  },
  {
   "cell_type": "code",
   "execution_count": 0,
   "metadata": {
    "colab": {
     "autoexec": {
      "startup": false,
      "wait_interval": 0
     }
    },
    "colab_type": "code",
    "collapsed": true,
    "id": "M3Gglj3kCJlD"
   },
   "outputs": [],
   "source": [
    "all_domains[all_domains['domain'].str.contains('^xn--')]"
   ]
  },
  {
   "cell_type": "code",
   "execution_count": 0,
   "metadata": {
    "colab": {
     "autoexec": {
      "startup": false,
      "wait_interval": 0
     }
    },
    "colab_type": "code",
    "collapsed": true,
    "id": "9QcAbaSSCMHF"
   },
   "outputs": [],
   "source": [
    "punycode = all_domains[all_domains['domain'].str.contains('^xn--')]['domain']\n",
    "[bytes(x, 'idna').decode('idna') for x in punycode]"
   ]
  },
  {
   "cell_type": "code",
   "execution_count": 0,
   "metadata": {
    "colab": {
     "autoexec": {
      "startup": false,
      "wait_interval": 0
     }
    },
    "colab_type": "code",
    "collapsed": true,
    "id": "TtQPCKqrBX6I"
   },
   "outputs": [],
   "source": [
    "all_domains.columns"
   ]
  },
  {
   "cell_type": "code",
   "execution_count": 0,
   "metadata": {
    "colab": {
     "autoexec": {
      "startup": false,
      "wait_interval": 0
     }
    },
    "colab_type": "code",
    "collapsed": true,
    "id": "UPYK_5-gEC5g"
   },
   "outputs": [],
   "source": [
    "X = all_domains.as_matrix(['length', 'entropy'])\n",
    "X[:5]"
   ]
  },
  {
   "cell_type": "code",
   "execution_count": 0,
   "metadata": {
    "colab": {
     "autoexec": {
      "startup": false,
      "wait_interval": 0
     }
    },
    "colab_type": "code",
    "collapsed": true,
    "id": "nn7GDWSREELT"
   },
   "outputs": [],
   "source": [
    "y = np.array([1 if x == 'dga' else 0 for x in all_domains['class']])\n",
    "y[:5]"
   ]
  },
  {
   "cell_type": "code",
   "execution_count": 0,
   "metadata": {
    "colab": {
     "autoexec": {
      "startup": false,
      "wait_interval": 0
     }
    },
    "colab_type": "code",
    "collapsed": true,
    "id": "pLOf20NREFeF"
   },
   "outputs": [],
   "source": [
    "# http://scikit-learn.org/stable/modules/generated/sklearn.model_selection.StratifiedShuffleSplit.html\n",
    "# This cross-validation object is a merge of StratifiedKFold and ShuffleSplit,\n",
    "# which returns stratified randomized folds. The folds are made by preserving\n",
    "# the percentage of samples for each class.\n",
    "\n",
    "from sklearn.model_selection import StratifiedShuffleSplit\n",
    "\n",
    "split = StratifiedShuffleSplit(n_splits=1, test_size=0.25)\n",
    "for train_index, test_index in split.split(X, y):\n",
    "    X_train, X_test = X[train_index], X[test_index]\n",
    "    y_train, y_test = y[train_index], y[test_index]\n",
    "\n",
    "print(len(y_train[y_train == 1])/len(y_train[y_train == 0]))\n",
    "print(len(y_test[y_test == 1])/len(y_test[y_test == 0]))"
   ]
  },
  {
   "cell_type": "code",
   "execution_count": 0,
   "metadata": {
    "colab": {
     "autoexec": {
      "startup": false,
      "wait_interval": 0
     }
    },
    "colab_type": "code",
    "collapsed": true,
    "id": "p-H2s8XuEG_Y"
   },
   "outputs": [],
   "source": [
    "from sklearn.ensemble import RandomForestClassifier"
   ]
  },
  {
   "cell_type": "code",
   "execution_count": 0,
   "metadata": {
    "colab": {
     "autoexec": {
      "startup": false,
      "wait_interval": 0
     }
    },
    "colab_type": "code",
    "collapsed": true,
    "id": "_8ykoPh9EPU9"
   },
   "outputs": [],
   "source": [
    "from sklearn.metrics import accuracy_score\n",
    "def print_score(m):\n",
    "    res = [m.score(X_train, y_train), m.score(X_test, y_test)]\n",
    "    if hasattr(m, 'oob_score_'): res.append(m.oob_score_)\n",
    "    print(res)\n",
    "    \n",
    "clf = RandomForestClassifier(n_jobs=-1)\n",
    "%time clf.fit(X_train, y_train)\n",
    "print_score(clf)"
   ]
  },
  {
   "cell_type": "code",
   "execution_count": 0,
   "metadata": {
    "colab": {
     "autoexec": {
      "startup": false,
      "wait_interval": 0
     }
    },
    "colab_type": "code",
    "collapsed": true,
    "id": "5lZnjS4ZEQw1"
   },
   "outputs": [],
   "source": [
    "# https://en.wikipedia.org/wiki/Cross-validation_(statistics)#/media/File:K-fold_cross_validation_EN.jpg\n",
    "from sklearn.model_selection import cross_val_score\n",
    "\n",
    "scores = cross_val_score(clf, X_test, y_test, cv=10, n_jobs=-1)\n",
    "print(scores)"
   ]
  },
  {
   "cell_type": "code",
   "execution_count": 0,
   "metadata": {
    "colab": {
     "autoexec": {
      "startup": false,
      "wait_interval": 0
     }
    },
    "colab_type": "code",
    "collapsed": true,
    "id": "m9XVbdfoEWZ6"
   },
   "outputs": [],
   "source": [
    "from yellowbrick.classifier import ConfusionMatrix\n",
    "\n",
    "clf = RandomForestClassifier(n_jobs=-1)\n",
    "\n",
    "# The ConfusionMatrix visualizer taxes a model\n",
    "cm = ConfusionMatrix(clf, classes=[0, 1])\n",
    "\n",
    "# Fit fits the passed model. This is unnecessary if you pass the visualizer a pre-fitted model\n",
    "cm.fit(X_train, y_train)\n",
    "\n",
    "# To create the ConfusionMatrix, we need some test data. Score runs predict() on the data\n",
    "# and then creates the confusion_matrix from scikit-learn.\n",
    "cm.score(X_test, y_test)\n",
    "\n",
    "# How did we do?\n",
    "cm.poof()"
   ]
  },
  {
   "cell_type": "code",
   "execution_count": 0,
   "metadata": {
    "colab": {
     "autoexec": {
      "startup": false,
      "wait_interval": 0
     }
    },
    "colab_type": "code",
    "collapsed": true,
    "id": "w_4kdUGCEz2l"
   },
   "outputs": [],
   "source": [
    "from imblearn.over_sampling import SMOTE\n",
    "\n",
    "sm = SMOTE(ratio = 1.0)\n",
    "X_train_res, y_train_res = sm.fit_sample(X_train, y_train)"
   ]
  },
  {
   "cell_type": "code",
   "execution_count": 0,
   "metadata": {
    "colab": {
     "autoexec": {
      "startup": false,
      "wait_interval": 0
     }
    },
    "colab_type": "code",
    "collapsed": true,
    "id": "NkuzNXPTFMX_"
   },
   "outputs": [],
   "source": [
    "from yellowbrick.classifier import ClassBalance\n",
    "\n",
    "m = RandomForestClassifier(n_jobs=-1)\n",
    "visualizer = ClassBalance(m, classes=['legit', 'dga'])\n",
    "%time visualizer.fit(X_train_res, y_train_res)\n",
    "visualizer.score(X_train_res, y_train_res)  # Evaluate the model on the test data\n",
    "g = visualizer.poof()             # Draw/show/poof the data\n",
    "print_score(m)"
   ]
  },
  {
   "cell_type": "markdown",
   "metadata": {
    "colab_type": "text",
    "id": "Bj8oJZ-yFlMl"
   },
   "source": [
    "## More feature engineering"
   ]
  },
  {
   "cell_type": "code",
   "execution_count": 0,
   "metadata": {
    "colab": {
     "autoexec": {
      "startup": false,
      "wait_interval": 0
     }
    },
    "colab_type": "code",
    "collapsed": true,
    "id": "vwUHWcEpFZlh"
   },
   "outputs": [],
   "source": [
    "from sklearn.feature_extraction.text import CountVectorizer\n",
    "\n",
    "'''\n",
    " |  analyzer : string, {'word', 'char', 'char_wb'} or callable\n",
    " |      Whether the feature should be made of word or character n-grams.\n",
    " |      Option 'char_wb' creates character n-grams only from text inside\n",
    " |      word boundaries; n-grams at the edges of words are padded with space.\n",
    " |  \n",
    " |      If a callable is passed it is used to extract the sequence of features\n",
    " |      out of the raw, unprocessed input.\n",
    " |  \n",
    " |  ngram_range : tuple (min_n, max_n)\n",
    " |      The lower and upper boundary of the range of n-values for different\n",
    " |      n-grams to be extracted. All values of n such that min_n <= n <= max_n\n",
    " |      will be used.\n",
    " |  \n",
    " |  max_df : float in range [0.0, 1.0] or int, default=1.0\n",
    " |      When building the vocabulary ignore terms that have a document\n",
    " |      frequency strictly higher than the given threshold (corpus-specific\n",
    " |      stop words).\n",
    " |      If float, the parameter represents a proportion of documents, integer\n",
    " |      absolute counts.\n",
    " |      This parameter is ignored if vocabulary is not None.\n",
    " |  \n",
    " |  min_df : float in range [0.0, 1.0] or int, default=1\n",
    " |      When building the vocabulary ignore terms that have a document\n",
    " |      frequency strictly lower than the given threshold. This value is also\n",
    " |      called cut-off in the literature.\n",
    " |      If float, the parameter represents a proportion of documents, integer\n",
    " |      absolute counts.\n",
    " |      This parameter is ignored if vocabulary is not None.\n",
    " \n",
    "min_df=1e-4 <- give me ngrams that happen in at least .1% of the domains\n",
    "'''\n",
    "ngram_vectorizer = CountVectorizer(analyzer='char', ngram_range=(3,5),\n",
    "                          max_df=1.0, min_df=1e-4)"
   ]
  },
  {
   "cell_type": "code",
   "execution_count": 0,
   "metadata": {
    "colab": {
     "autoexec": {
      "startup": false,
      "wait_interval": 0
     }
    },
    "colab_type": "code",
    "collapsed": true,
    "id": "wlnCVLD-Fz3v"
   },
   "outputs": [],
   "source": [
    "ngram_features = ngram_vectorizer.fit_transform(alexa_dataframe['domain'])\n",
    "ngram_counts = np.log10(ngram_features.sum(axis=0).getA1())\n",
    "ngrams = ngram_vectorizer.get_feature_names()\n",
    "len(ngrams)"
   ]
  },
  {
   "cell_type": "code",
   "execution_count": 0,
   "metadata": {
    "colab": {
     "autoexec": {
      "startup": false,
      "wait_interval": 0
     }
    },
    "colab_type": "code",
    "collapsed": true,
    "id": "TyPpaV_WF5l0"
   },
   "outputs": [],
   "source": [
    "# ngram_df = pd.DataFrame(ngram_features.todense(), columns=ngrams)\n",
    "ngram_df = pd.DataFrame([ngram_counts], columns=ngrams)"
   ]
  },
  {
   "cell_type": "code",
   "execution_count": 0,
   "metadata": {
    "colab": {
     "autoexec": {
      "startup": false,
      "wait_interval": 0
     }
    },
    "colab_type": "code",
    "collapsed": true,
    "id": "QTejPAdOGere"
   },
   "outputs": [],
   "source": [
    "#ngram_substr = ngram_df.T[ngram_df.T[0] > 1].sort_values([0], ascending=True).head(10)\n",
    "ngram_substr = ngram_df.T.sort_values([0], ascending=True).head(10)\n",
    "ngram_substr"
   ]
  },
  {
   "cell_type": "code",
   "execution_count": 0,
   "metadata": {
    "colab": {
     "autoexec": {
      "startup": false,
      "wait_interval": 0
     }
    },
    "colab_type": "code",
    "collapsed": true,
    "id": "HN93S4K8IKGH"
   },
   "outputs": [],
   "source": [
    "# [all_domains[(all_domains['domain'].str.contains(x) == True) & (all_domains['class'] == 'dga')].sort_values('entropy', ascending=False) for x in ngram_substr.T.columns]\n",
    "[all_domains[all_domains['domain'].str.contains(x) == True].sort_values('entropy', ascending=False) for x in ngram_substr.T.columns]"
   ]
  },
  {
   "cell_type": "code",
   "execution_count": 0,
   "metadata": {
    "colab": {
     "autoexec": {
      "startup": false,
      "wait_interval": 0
     }
    },
    "colab_type": "code",
    "collapsed": true,
    "id": "PbbrW3NTGiBh"
   },
   "outputs": [],
   "source": [
    "ngram_substr = ngram_df.T.sort_values([0], ascending=False).head(10)\n",
    "ngram_substr"
   ]
  },
  {
   "cell_type": "code",
   "execution_count": 0,
   "metadata": {
    "colab": {
     "autoexec": {
      "startup": false,
      "wait_interval": 0
     }
    },
    "colab_type": "code",
    "collapsed": true,
    "id": "R8saSoNvID-o"
   },
   "outputs": [],
   "source": [
    "[all_domains[(all_domains['domain'].str.contains(x) == True)].sort_values('entropy', ascending=False) for x in ngram_substr.T.columns]"
   ]
  },
  {
   "cell_type": "code",
   "execution_count": 0,
   "metadata": {
    "colab": {
     "autoexec": {
      "startup": false,
      "wait_interval": 0
     }
    },
    "colab_type": "code",
    "collapsed": true,
    "id": "CSwoZACqJhZp"
   },
   "outputs": [],
   "source": [
    "word_dataframe = pd.read_csv('data/words.txt', header=None, names=['word'], dtype={'word': np.str}, encoding='utf-8')"
   ]
  },
  {
   "cell_type": "code",
   "execution_count": 0,
   "metadata": {
    "colab": {
     "autoexec": {
      "startup": false,
      "wait_interval": 0
     }
    },
    "colab_type": "code",
    "collapsed": true,
    "id": "NPBvKFR_KtPh"
   },
   "outputs": [],
   "source": [
    "DataFrameSummary(word_dataframe).summary()"
   ]
  },
  {
   "cell_type": "code",
   "execution_count": 0,
   "metadata": {
    "colab": {
     "autoexec": {
      "startup": false,
      "wait_interval": 0
     }
    },
    "colab_type": "code",
    "collapsed": true,
    "id": "6C7DK2K1KwnA"
   },
   "outputs": [],
   "source": [
    "word_dataframe = word_dataframe[word_dataframe['word'].map(lambda x: str(x).isalpha())]"
   ]
  },
  {
   "cell_type": "code",
   "execution_count": 0,
   "metadata": {
    "colab": {
     "autoexec": {
      "startup": false,
      "wait_interval": 0
     }
    },
    "colab_type": "code",
    "collapsed": true,
    "id": "1MQMXEVBKymv"
   },
   "outputs": [],
   "source": [
    "word_dataframe = word_dataframe.applymap(lambda x: str(x).strip().lower())\n",
    "word_dataframe = word_dataframe.dropna()\n",
    "word_dataframe = word_dataframe.drop_duplicates()\n",
    "word_dataframe.sample(10)"
   ]
  },
  {
   "cell_type": "code",
   "execution_count": 0,
   "metadata": {
    "colab": {
     "autoexec": {
      "startup": false,
      "wait_interval": 0
     }
    },
    "colab_type": "code",
    "collapsed": true,
    "id": "p9VU9SvYK0jn"
   },
   "outputs": [],
   "source": [
    "word_vectorizer = CountVectorizer(analyzer='char', ngram_range=(3,5), min_df=1e-5, max_df=1.0)\n",
    "word_features = word_vectorizer.fit_transform(word_dataframe['word'])\n",
    "word_counts = np.log10(word_features.sum(axis=0).getA1())\n",
    "words = word_vectorizer.get_feature_names()\n",
    "len(words)\n",
    "\n",
    "# ngram_df = pd.DataFrame(ngram_features.todense(), columns=ngrams)\n",
    "word_df = pd.DataFrame([word_counts], columns=words)"
   ]
  },
  {
   "cell_type": "code",
   "execution_count": 0,
   "metadata": {
    "colab": {
     "autoexec": {
      "startup": false,
      "wait_interval": 0
     }
    },
    "colab_type": "code",
    "collapsed": true,
    "id": "2YXPmFCpLTqc"
   },
   "outputs": [],
   "source": [
    "word_substr = word_df.T.sort_values([0], ascending=True).head(10)\n",
    "word_substr"
   ]
  },
  {
   "cell_type": "code",
   "execution_count": 0,
   "metadata": {
    "colab": {
     "autoexec": {
      "startup": false,
      "wait_interval": 0
     }
    },
    "colab_type": "code",
    "collapsed": true,
    "id": "nxb_bIqQLbCN"
   },
   "outputs": [],
   "source": [
    "[all_domains[(all_domains['domain'].str.contains(x) == True)].sort_values('entropy', ascending=False) for x in word_substr.T.columns]"
   ]
  },
  {
   "cell_type": "code",
   "execution_count": 0,
   "metadata": {
    "colab": {
     "autoexec": {
      "startup": false,
      "wait_interval": 0
     }
    },
    "colab_type": "code",
    "collapsed": true,
    "id": "Znm9NeyBQYSA"
   },
   "outputs": [],
   "source": [
    "def ngram_count(domain):\n",
    "    ngram_match = ngram_counts * ngram_vectorizer.transform([domain]).T\n",
    "    word_match = word_counts * word_vectorizer.transform([domain]).T\n",
    "    print(\"{} Alexa match: {} Word match: {}\".format(domain, ngram_match, word_match))"
   ]
  },
  {
   "cell_type": "code",
   "execution_count": 0,
   "metadata": {
    "colab": {
     "autoexec": {
      "startup": false,
      "wait_interval": 0
     }
    },
    "colab_type": "code",
    "collapsed": true,
    "id": "t7RQCH1rRs60"
   },
   "outputs": [],
   "source": [
    "ngram_count('xcaywkeyptvcvcrkmzrpvjbobgy')\n",
    "ngram_count('google')\n",
    "ngram_count('facebook')"
   ]
  },
  {
   "cell_type": "code",
   "execution_count": 0,
   "metadata": {
    "colab": {
     "autoexec": {
      "startup": false,
      "wait_interval": 0
     }
    },
    "colab_type": "code",
    "collapsed": true,
    "id": "IKo2M8LFRzt6"
   },
   "outputs": [],
   "source": [
    "all_domains['alexa_grams'] = ngram_counts * ngram_vectorizer.transform(all_domains['domain']).T\n",
    "all_domains['word_grams'] = word_counts * word_vectorizer.transform(all_domains['domain']).T\n",
    "all_domains.sort_values(['alexa_grams', 'word_grams'], ascending=False).head(10)"
   ]
  },
  {
   "cell_type": "code",
   "execution_count": 0,
   "metadata": {
    "colab": {
     "autoexec": {
      "startup": false,
      "wait_interval": 0
     }
    },
    "colab_type": "code",
    "collapsed": true,
    "id": "BcrMqZOHS8RV"
   },
   "outputs": [],
   "source": [
    "# There are legit emails that look really like DGAs\n",
    "all_domains[all_domains['class'] == 'dga'].sort_values(['alexa_grams', 'word_grams'], ascending=True).head(10)"
   ]
  },
  {
   "cell_type": "code",
   "execution_count": 0,
   "metadata": {
    "colab": {
     "autoexec": {
      "startup": false,
      "wait_interval": 0
     }
    },
    "colab_type": "code",
    "collapsed": true,
    "id": "e_T97gXDS_qy"
   },
   "outputs": [],
   "source": [
    "all_domains['diff'] = all_domains['alexa_grams'] - all_domains['word_grams']\n",
    "# Less dictionary-like? more Internety\n",
    "all_domains.sort_values(['diff'], ascending=False).head(10)"
   ]
  },
  {
   "cell_type": "code",
   "execution_count": 0,
   "metadata": {
    "colab": {
     "autoexec": {
      "startup": false,
      "wait_interval": 0
     }
    },
    "colab_type": "code",
    "collapsed": true,
    "id": "uwh67Sb3UXfM"
   },
   "outputs": [],
   "source": [
    "all_domains[~all_domains['domain'].str.contains('-')].sort_values(['diff'], ascending=False).head(10)"
   ]
  },
  {
   "cell_type": "code",
   "execution_count": 0,
   "metadata": {
    "colab": {
     "autoexec": {
      "startup": false,
      "wait_interval": 0
     }
    },
    "colab_type": "code",
    "collapsed": true,
    "id": "L0PfK1JQTuxG"
   },
   "outputs": [],
   "source": [
    "# More dictionary-like, less Internety?\n",
    "all_domains.sort_values(['diff'], ascending=True).head(10)"
   ]
  },
  {
   "cell_type": "code",
   "execution_count": 0,
   "metadata": {
    "colab": {
     "autoexec": {
      "startup": false,
      "wait_interval": 0
     }
    },
    "colab_type": "code",
    "collapsed": true,
    "id": "4WYjjG2XTxKW"
   },
   "outputs": [],
   "source": [
    "ax = sns.pairplot(data=all_domains, diag_kind = 'kde', hue = 'class',\n",
    "                  markers = [\"o\", \"D\"], aspect = 1, plot_kws = {\"s\": 6})"
   ]
  },
  {
   "cell_type": "code",
   "execution_count": 0,
   "metadata": {
    "colab": {
     "autoexec": {
      "startup": false,
      "wait_interval": 0
     }
    },
    "colab_type": "code",
    "collapsed": true,
    "id": "Ahf792CZUuD9"
   },
   "outputs": [],
   "source": [
    "all_domains[all_domains['word_grams']==0].head()"
   ]
  },
  {
   "cell_type": "code",
   "execution_count": 0,
   "metadata": {
    "colab": {
     "autoexec": {
      "startup": false,
      "wait_interval": 0
     }
    },
    "colab_type": "code",
    "collapsed": true,
    "id": "cMNxCuVcVGD5"
   },
   "outputs": [],
   "source": [
    "DataFrameSummary(all_domains[all_domains['class']=='legit']).summary()"
   ]
  },
  {
   "cell_type": "code",
   "execution_count": 0,
   "metadata": {
    "colab": {
     "autoexec": {
      "startup": false,
      "wait_interval": 0
     }
    },
    "colab_type": "code",
    "collapsed": true,
    "id": "kZrH2DCJVI2V"
   },
   "outputs": [],
   "source": [
    "%time legit = all_domains[all_domains['class']=='legit']\n",
    "%time max_grams = np.maximum(legit['alexa_grams'], legit['word_grams'])\n",
    "%time sns.distplot(max_grams, bins=80, kde=False, rug=True)"
   ]
  },
  {
   "cell_type": "code",
   "execution_count": 0,
   "metadata": {
    "colab": {
     "autoexec": {
      "startup": false,
      "wait_interval": 0
     }
    },
    "colab_type": "code",
    "collapsed": true,
    "id": "Y0NY6IV1VVjn"
   },
   "outputs": [],
   "source": [
    "all_domains.columns"
   ]
  },
  {
   "cell_type": "code",
   "execution_count": 0,
   "metadata": {
    "colab": {
     "autoexec": {
      "startup": false,
      "wait_interval": 0
     }
    },
    "colab_type": "code",
    "collapsed": true,
    "id": "d9aZSg2nVd5q"
   },
   "outputs": [],
   "source": [
    "X = all_domains.as_matrix(['domain', 'length', 'entropy', 'alexa_grams', 'word_grams'])\n",
    "X[:5]"
   ]
  },
  {
   "cell_type": "code",
   "execution_count": 0,
   "metadata": {
    "colab": {
     "autoexec": {
      "startup": false,
      "wait_interval": 0
     }
    },
    "colab_type": "code",
    "collapsed": true,
    "id": "IkOBx6F7Vg9-"
   },
   "outputs": [],
   "source": [
    "y = np.array([1 if x == 'dga' else 0 for x in all_domains['class']])\n",
    "y[:5]"
   ]
  },
  {
   "cell_type": "code",
   "execution_count": 0,
   "metadata": {
    "colab": {
     "autoexec": {
      "startup": false,
      "wait_interval": 0
     }
    },
    "colab_type": "code",
    "collapsed": true,
    "id": "FICpCf9UViAG"
   },
   "outputs": [],
   "source": [
    "# http://scikit-learn.org/stable/modules/generated/sklearn.model_selection.StratifiedShuffleSplit.html\n",
    "# This cross-validation object is a merge of StratifiedKFold and ShuffleSplit,\n",
    "# which returns stratified randomized folds. The folds are made by preserving\n",
    "# the percentage of samples for each class.\n",
    "\n",
    "from sklearn.model_selection import StratifiedShuffleSplit\n",
    "\n",
    "split = StratifiedShuffleSplit(n_splits=1, test_size=0.25)\n",
    "for train_index, test_index in split.split(X, y):\n",
    "    X_train, X_test = X[train_index], X[test_index]\n",
    "    y_train, y_test = y[train_index], y[test_index]\n",
    "\n",
    "print(len(y_train[y_train == 1])/len(y_train[y_train == 0]))\n",
    "print(len(y_test[y_test == 1])/len(y_test[y_test == 0]))"
   ]
  },
  {
   "cell_type": "code",
   "execution_count": 0,
   "metadata": {
    "colab": {
     "autoexec": {
      "startup": false,
      "wait_interval": 0
     }
    },
    "colab_type": "code",
    "collapsed": true,
    "id": "0n-k1m-7VjsS"
   },
   "outputs": [],
   "source": [
    "# sklearn.metrics.mean_squared_error\n",
    "#from sklearn.metrics import accuracy_score\n",
    "#def print_score(m):\n",
    "#    res = [m.score(X_train, y_train), m.score(X_test, y_test)]\n",
    "#    if hasattr(m, 'oob_score_'): res.append(m.oob_score_)\n",
    "#    print(res)\n",
    "    \n",
    "#clf = RandomForestClassifier(n_jobs=-1)\n",
    "#%time clf.fit(X_train, y_train)\n",
    "#print_score(clf)\n",
    "\n",
    "from yellowbrick.classifier import ConfusionMatrix\n",
    "\n",
    "clf = RandomForestClassifier(n_jobs=-1)\n",
    "\n",
    "# The ConfusionMatrix visualizer taxes a model\n",
    "cm = ConfusionMatrix(clf, classes=[0, 1])\n",
    "\n",
    "# Fit fits the passed model. This is unnecessary if you pass the visualizer a pre-fitted model\n",
    "%time cm.fit(np.delete(X_train, [0], axis=1), y_train)\n",
    "\n",
    "# To create the ConfusionMatrix, we need some test data. Score runs predict() on the data\n",
    "# and then creates the confusion_matrix from scikit-learn.\n",
    "cm.score(np.delete(X_test, [0], axis=1), y_test)\n",
    "\n",
    "# How did we do?\n",
    "cm.poof()"
   ]
  },
  {
   "cell_type": "code",
   "execution_count": 0,
   "metadata": {
    "colab": {
     "autoexec": {
      "startup": false,
      "wait_interval": 0
     }
    },
    "colab_type": "code",
    "collapsed": true,
    "id": "x3oxh0C2Vnx7"
   },
   "outputs": [],
   "source": [
    "sm = SMOTE(ratio = 1.0)\n",
    "X_train_res, y_train_res = sm.fit_sample(np.delete(X_train, [0], axis=1), y_train)\n",
    "\n",
    "from yellowbrick.classifier import ClassBalance\n",
    "\n",
    "m = RandomForestClassifier(n_jobs=-1)\n",
    "visualizer = ClassBalance(m, classes=['legit', 'dga'])\n",
    "%time visualizer.fit(X_train_res, y_train_res)\n",
    "visualizer.score(X_train_res, y_train_res)  # Evaluate the model on the test data\n",
    "g = visualizer.poof()             # Draw/show/poof the data\n",
    "#print(m.score(X_train_res, y_train_res))"
   ]
  },
  {
   "cell_type": "code",
   "execution_count": 0,
   "metadata": {
    "colab": {
     "autoexec": {
      "startup": false,
      "wait_interval": 0
     }
    },
    "colab_type": "code",
    "collapsed": true,
    "id": "Fjo1giM5V3jp"
   },
   "outputs": [],
   "source": [
    "from yellowbrick.classifier import ConfusionMatrix\n",
    "\n",
    "clf = RandomForestClassifier(n_jobs=-1)\n",
    "\n",
    "# The ConfusionMatrix visualizer taxes a model\n",
    "cm = ConfusionMatrix(clf, classes=[0, 1])\n",
    "\n",
    "# Fit fits the passed model. This is unnecessary if you pass the visualizer a pre-fitted model\n",
    "cm.fit(X_train_res, y_train_res)\n",
    "\n",
    "# To create the ConfusionMatrix, we need some test data. Score runs predict() on the data\n",
    "# and then creates the confusion_matrix from scikit-learn.\n",
    "cm.score(np.delete(X_test, [0], axis=1), y_test)\n",
    "\n",
    "# How did we do?\n",
    "cm.poof()"
   ]
  },
  {
   "cell_type": "code",
   "execution_count": 0,
   "metadata": {
    "colab": {
     "autoexec": {
      "startup": false,
      "wait_interval": 0
     }
    },
    "colab_type": "code",
    "collapsed": true,
    "id": "itlu3d2CW9Ve"
   },
   "outputs": [],
   "source": [
    "cm.predict([X_test[1337][1:]])"
   ]
  },
  {
   "cell_type": "code",
   "execution_count": 0,
   "metadata": {
    "colab": {
     "autoexec": {
      "startup": false,
      "wait_interval": 0
     }
    },
    "colab_type": "code",
    "collapsed": true,
    "id": "hPqTjM6iXtEi"
   },
   "outputs": [],
   "source": [
    "print(X_test[1338], y_test[1338])"
   ]
  },
  {
   "cell_type": "markdown",
   "metadata": {
    "colab_type": "text",
    "id": "C6m8NGqsvt9I"
   },
   "source": [
    "## References\n",
    "*  https://github.com/ClickSecurity/data_hacking/tree/master/dga_detection\n",
    "\n",
    "## Eugene Teo\n",
    "\n",
    "*  eugene at temasek.org\n",
    "*  http://www.temasek.org (淡馬錫)"
   ]
  }
 ],
 "metadata": {
  "colab": {
   "default_view": {},
   "name": "thp18-training.ipynb",
   "provenance": [
    {
     "file_id": "1esDLo2ezdDWrtvIMgRNMp-lGs74RTvXc",
     "timestamp": 1531185190475
    }
   ],
   "version": "0.3.2",
   "views": {}
  },
  "kernelspec": {
   "display_name": "Python 3",
   "language": "python",
   "name": "python3"
  },
  "language_info": {
   "codemirror_mode": {
    "name": "ipython",
    "version": 3
   },
   "file_extension": ".py",
   "mimetype": "text/x-python",
   "name": "python",
   "nbconvert_exporter": "python",
   "pygments_lexer": "ipython3",
   "version": "3.5.2"
  }
 },
 "nbformat": 4,
 "nbformat_minor": 1
}
